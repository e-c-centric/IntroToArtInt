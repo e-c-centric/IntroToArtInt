{
  "cells": [
    {
      "attachments": {},
      "cell_type": "markdown",
      "metadata": {
        "colab_type": "text",
        "id": "view-in-github"
      },
      "source": [
        "<a href=\"https://colab.research.google.com/github/e-c-centric/Group26_Final_Project/blob/main/Group26_Final_Project.ipynb\" target=\"_parent\"><img src=\"https://colab.research.google.com/assets/colab-badge.svg\" alt=\"Open In Colab\"/></a>"
      ]
    },
    {
      "cell_type": "code",
      "execution_count": null,
      "metadata": {
        "colab": {
          "base_uri": "https://localhost:8080/"
        },
        "id": "572xXNzNoZrK",
        "outputId": "08429154-f5cf-4e24-cb69-6eceefaa8505"
      },
      "outputs": [
        {
          "name": "stdout",
          "output_type": "stream",
          "text": [
            "Collecting textstat\n",
            "  Downloading textstat-0.7.3-py3-none-any.whl (105 kB)\n",
            "\u001b[2K     \u001b[90m━━━━━━━━━━━━━━━━━━━━━━━━━━━━━━━━━━━━━━━━\u001b[0m \u001b[32m105.1/105.1 kB\u001b[0m \u001b[31m1.1 MB/s\u001b[0m eta \u001b[36m0:00:00\u001b[0m\n",
            "\u001b[?25hCollecting langid\n",
            "  Downloading langid-1.1.6.tar.gz (1.9 MB)\n",
            "\u001b[2K     \u001b[90m━━━━━━━━━━━━━━━━━━━━━━━━━━━━━━━━━━━━━━━━\u001b[0m \u001b[32m1.9/1.9 MB\u001b[0m \u001b[31m20.1 MB/s\u001b[0m eta \u001b[36m0:00:00\u001b[0m\n",
            "\u001b[?25h  Preparing metadata (setup.py) ... \u001b[?25l\u001b[?25hdone\n",
            "Collecting pyphen (from textstat)\n",
            "  Downloading pyphen-0.14.0-py3-none-any.whl (2.0 MB)\n",
            "\u001b[2K     \u001b[90m━━━━━━━━━━━━━━━━━━━━━━━━━━━━━━━━━━━━━━━━\u001b[0m \u001b[32m2.0/2.0 MB\u001b[0m \u001b[31m33.0 MB/s\u001b[0m eta \u001b[36m0:00:00\u001b[0m\n",
            "\u001b[?25hRequirement already satisfied: numpy in /usr/local/lib/python3.10/dist-packages (from langid) (1.23.5)\n",
            "Building wheels for collected packages: langid\n",
            "  Building wheel for langid (setup.py) ... \u001b[?25l\u001b[?25hdone\n",
            "  Created wheel for langid: filename=langid-1.1.6-py3-none-any.whl size=1941172 sha256=b95d5b5254abb44f610c92b2a42fae4fed705ec492e6495180acbfba1a3fc7cd\n",
            "  Stored in directory: /root/.cache/pip/wheels/23/c8/c6/eed80894918490a175677414d40bd7c851413bbe03d4856c3c\n",
            "Successfully built langid\n",
            "Installing collected packages: pyphen, langid, textstat\n",
            "Successfully installed langid-1.1.6 pyphen-0.14.0 textstat-0.7.3\n"
          ]
        }
      ],
      "source": [
        "!pip install textstat langid"
      ]
    },
    {
      "cell_type": "code",
      "execution_count": null,
      "metadata": {
        "id": "4Y2sVNmmlI9J"
      },
      "outputs": [],
      "source": [
        "import pandas as pd\n",
        "import numpy as np\n",
        "from sklearn.feature_extraction.text import TfidfVectorizer\n",
        "from sklearn.cluster import KMeans\n",
        "from google.colab import drive\n",
        "from sklearn.preprocessing import StandardScaler, LabelEncoder, OneHotEncoder, MinMaxScaler\n",
        "import random\n",
        "import textstat\n",
        "import langid\n",
        "from sklearn.model_selection import train_test_split\n",
        "from tensorflow.keras.preprocessing.text import Tokenizer\n",
        "from tensorflow.keras.preprocessing.sequence import pad_sequences\n",
        "from tensorflow.keras.models import Sequential\n",
        "from tensorflow.keras.layers import Embedding, LSTM, Dense\n",
        "from sklearn.preprocessing import LabelEncoder\n",
        "from sklearn.metrics import accuracy_score, classification_report\n",
        "from gensim.models import Word2Vec\n",
        "from sklearn.cluster import KMeans\n",
        "from sklearn.metrics import silhouette_score\n",
        "import matplotlib.pyplot as plt"
      ]
    },
    {
      "cell_type": "code",
      "execution_count": null,
      "metadata": {
        "colab": {
          "base_uri": "https://localhost:8080/"
        },
        "id": "AS21H-BHjZ61",
        "outputId": "f159588c-4b9c-47f2-cc45-dc0b1fdd2ca6"
      },
      "outputs": [
        {
          "name": "stdout",
          "output_type": "stream",
          "text": [
            "Mounted at /content/drive\n"
          ]
        }
      ],
      "source": [
        "drive.mount('/content/drive')"
      ]
    },
    {
      "attachments": {},
      "cell_type": "markdown",
      "metadata": {
        "id": "GxkI8571I0Ci"
      },
      "source": [
        "**Data Collection**"
      ]
    },
    {
      "cell_type": "code",
      "execution_count": null,
      "metadata": {
        "id": "YtNdubmjIIBu"
      },
      "outputs": [],
      "source": [
        "'''This file was sourced from the Oxford DIctionary. We stripped all the word definitions from the list'''\n",
        "\n",
        "file_path = '/content/drive/MyDrive/Colab Notebooks/words.txt'\n",
        "\n",
        "with open(file_path, 'r') as file:\n",
        "    words = file.read().split()\n",
        "\n",
        "'''We preprocessed our list of words to remove all words of length less than 3. We also removed\n",
        "words that contain numbers'''\n",
        "\n",
        "refined_words = [word for word in words if word.isalpha() and len(word) >= 3]\n",
        "\n",
        "with open('/content/drive/MyDrive/Colab Notebooks/application_words.txt', 'w') as file:\n",
        "    file.write('\\n'.join(refined_words))\n",
        "\n",
        "random_sample = random.sample(refined_words, 1000)#creating a subset for training\n",
        "with open('/content/drive/MyDrive/Colab Notebooks/training_words.txt', 'w') as file:\n",
        "    file.write('\\n'.join(random_sample))"
      ]
    },
    {
      "cell_type": "code",
      "execution_count": null,
      "metadata": {
        "id": "Os0U3ZGJmANr"
      },
      "outputs": [],
      "source": [
        "file_path = '/content/drive/MyDrive/Colab Notebooks/training_words.txt'\n",
        "training_df = pd.read_csv(file_path, sep= \" \", names=['word'])\n",
        "training_df = training_df.dropna()\n",
        "\n",
        "file_path = '/content/drive/MyDrive/Colab Notebooks/application_words.txt'\n",
        "application_df = pd.read_csv(file_path, sep= \" \", names=['word'])\n",
        "application_df = application_df.dropna()"
      ]
    },
    {
      "cell_type": "code",
      "execution_count": null,
      "metadata": {
        "id": "yDgus7eDpfac"
      },
      "outputs": [],
      "source": [
        "from gensim.models import Word2Vec\n",
        "#import gensim.downloader as api\n",
        "#model_name = \"word2vec-google-news-300\"\n",
        "#word2vec_model = api.load(model_name)\n",
        "#training a Word2Vec word embedding model on our application df'''\n",
        "word2vec_model = Word2Vec(sentences=[application_df['word'].tolist()], vector_size=100, window=5, min_count=1, workers=4)\n",
        "def word_to_vec(word):\n",
        "    try:\n",
        "        return word2vec_model.wv[word]\n",
        "    except KeyError:\n",
        "        return None"
      ]
    },
    {
      "cell_type": "code",
      "execution_count": null,
      "metadata": {
        "colab": {
          "base_uri": "https://localhost:8080/"
        },
        "id": "5-LLUypym7IU",
        "outputId": "b248b626-94b9-4cab-bb25-2396abf7cd83"
      },
      "outputs": [
        {
          "data": {
            "text/plain": [
              "<bound method DataFrame.info of                 word\n",
              "0          fullwords\n",
              "1          wealthful\n",
              "2              faery\n",
              "3               bien\n",
              "4        disfoliaged\n",
              "..               ...\n",
              "995      Platycerium\n",
              "996  podophthalmitic\n",
              "997          venules\n",
              "998            MDACS\n",
              "999     undescending\n",
              "\n",
              "[1000 rows x 1 columns]>"
            ]
          },
          "execution_count": 7,
          "metadata": {},
          "output_type": "execute_result"
        }
      ],
      "source": [
        "training_df.info"
      ]
    },
    {
      "cell_type": "code",
      "execution_count": null,
      "metadata": {
        "colab": {
          "base_uri": "https://localhost:8080/"
        },
        "id": "bW11YIr8l49F",
        "outputId": "1334bab3-7bab-4a98-f1ad-608d576cccf7"
      },
      "outputs": [
        {
          "data": {
            "text/plain": [
              "<bound method DataFrame.info of                 word\n",
              "0                AAA\n",
              "1               AAAA\n",
              "2             AAAAAA\n",
              "3               AAAL\n",
              "4               AAAS\n",
              "...              ...\n",
              "415696  zwitterionic\n",
              "415697        Zwolle\n",
              "415698      Zworykin\n",
              "415699           zZt\n",
              "415700           ZZZ\n",
              "\n",
              "[415700 rows x 1 columns]>"
            ]
          },
          "execution_count": 8,
          "metadata": {},
          "output_type": "execute_result"
        }
      ],
      "source": [
        "application_df.info"
      ]
    },
    {
      "attachments": {},
      "cell_type": "markdown",
      "metadata": {
        "id": "E1pCVe23JIJn"
      },
      "source": [
        "**Feature Extraction and Augmentation**"
      ]
    },
    {
      "cell_type": "code",
      "execution_count": null,
      "metadata": {
        "id": "QTacfP-EJCew"
      },
      "outputs": [],
      "source": [
        "def extract_features(word):\n",
        "    try:\n",
        "        syllables = textstat.syllable_count(word)\n",
        "        ari = textstat.automated_readability_index(word)\n",
        "        length = len(word)\n",
        "        #language, _ = langid.classify(word)\n",
        "\n",
        "        return {'syllables': syllables, 'ari': ari, 'length': length, 'language': None}\n",
        "    except Exception as e:\n",
        "        print(f\"Error extracting features for '{word}': {e}\")\n",
        "        return None\n",
        "\n",
        "\n",
        "feature_columns = ['ari','length']\n",
        "for column in feature_columns:\n",
        "    training_df[column] = training_df['word'].apply(lambda word: extract_features(word)[column] if extract_features(word) else None)\n",
        "\n",
        "# Drop rows with missing features\n",
        "training_df = training_df.dropna(subset=feature_columns)"
      ]
    },
    {
      "cell_type": "code",
      "execution_count": null,
      "metadata": {
        "colab": {
          "base_uri": "https://localhost:8080/",
          "height": 206
        },
        "id": "-04daJZLoJnb",
        "outputId": "da48f213-41e4-432a-e307-1d7f6ee0e83e"
      },
      "outputs": [
        {
          "data": {
            "text/html": [
              "\n",
              "  <div id=\"df-c3a859c3-f1ef-4191-87c4-22dababaa401\" class=\"colab-df-container\">\n",
              "    <div>\n",
              "<style scoped>\n",
              "    .dataframe tbody tr th:only-of-type {\n",
              "        vertical-align: middle;\n",
              "    }\n",
              "\n",
              "    .dataframe tbody tr th {\n",
              "        vertical-align: top;\n",
              "    }\n",
              "\n",
              "    .dataframe thead th {\n",
              "        text-align: right;\n",
              "    }\n",
              "</style>\n",
              "<table border=\"1\" class=\"dataframe\">\n",
              "  <thead>\n",
              "    <tr style=\"text-align: right;\">\n",
              "      <th></th>\n",
              "      <th>word</th>\n",
              "      <th>ari</th>\n",
              "      <th>length</th>\n",
              "    </tr>\n",
              "  </thead>\n",
              "  <tbody>\n",
              "    <tr>\n",
              "      <th>995</th>\n",
              "      <td>Platycerium</td>\n",
              "      <td>30.9</td>\n",
              "      <td>11</td>\n",
              "    </tr>\n",
              "    <tr>\n",
              "      <th>996</th>\n",
              "      <td>podophthalmitic</td>\n",
              "      <td>49.7</td>\n",
              "      <td>15</td>\n",
              "    </tr>\n",
              "    <tr>\n",
              "      <th>997</th>\n",
              "      <td>venules</td>\n",
              "      <td>12.0</td>\n",
              "      <td>7</td>\n",
              "    </tr>\n",
              "    <tr>\n",
              "      <th>998</th>\n",
              "      <td>MDACS</td>\n",
              "      <td>2.6</td>\n",
              "      <td>5</td>\n",
              "    </tr>\n",
              "    <tr>\n",
              "      <th>999</th>\n",
              "      <td>undescending</td>\n",
              "      <td>35.6</td>\n",
              "      <td>12</td>\n",
              "    </tr>\n",
              "  </tbody>\n",
              "</table>\n",
              "</div>\n",
              "    <div class=\"colab-df-buttons\">\n",
              "\n",
              "  <div class=\"colab-df-container\">\n",
              "    <button class=\"colab-df-convert\" onclick=\"convertToInteractive('df-c3a859c3-f1ef-4191-87c4-22dababaa401')\"\n",
              "            title=\"Convert this dataframe to an interactive table.\"\n",
              "            style=\"display:none;\">\n",
              "\n",
              "  <svg xmlns=\"http://www.w3.org/2000/svg\" height=\"24px\" viewBox=\"0 -960 960 960\">\n",
              "    <path d=\"M120-120v-720h720v720H120Zm60-500h600v-160H180v160Zm220 220h160v-160H400v160Zm0 220h160v-160H400v160ZM180-400h160v-160H180v160Zm440 0h160v-160H620v160ZM180-180h160v-160H180v160Zm440 0h160v-160H620v160Z\"/>\n",
              "  </svg>\n",
              "    </button>\n",
              "\n",
              "  <style>\n",
              "    .colab-df-container {\n",
              "      display:flex;\n",
              "      gap: 12px;\n",
              "    }\n",
              "\n",
              "    .colab-df-convert {\n",
              "      background-color: #E8F0FE;\n",
              "      border: none;\n",
              "      border-radius: 50%;\n",
              "      cursor: pointer;\n",
              "      display: none;\n",
              "      fill: #1967D2;\n",
              "      height: 32px;\n",
              "      padding: 0 0 0 0;\n",
              "      width: 32px;\n",
              "    }\n",
              "\n",
              "    .colab-df-convert:hover {\n",
              "      background-color: #E2EBFA;\n",
              "      box-shadow: 0px 1px 2px rgba(60, 64, 67, 0.3), 0px 1px 3px 1px rgba(60, 64, 67, 0.15);\n",
              "      fill: #174EA6;\n",
              "    }\n",
              "\n",
              "    .colab-df-buttons div {\n",
              "      margin-bottom: 4px;\n",
              "    }\n",
              "\n",
              "    [theme=dark] .colab-df-convert {\n",
              "      background-color: #3B4455;\n",
              "      fill: #D2E3FC;\n",
              "    }\n",
              "\n",
              "    [theme=dark] .colab-df-convert:hover {\n",
              "      background-color: #434B5C;\n",
              "      box-shadow: 0px 1px 3px 1px rgba(0, 0, 0, 0.15);\n",
              "      filter: drop-shadow(0px 1px 2px rgba(0, 0, 0, 0.3));\n",
              "      fill: #FFFFFF;\n",
              "    }\n",
              "  </style>\n",
              "\n",
              "    <script>\n",
              "      const buttonEl =\n",
              "        document.querySelector('#df-c3a859c3-f1ef-4191-87c4-22dababaa401 button.colab-df-convert');\n",
              "      buttonEl.style.display =\n",
              "        google.colab.kernel.accessAllowed ? 'block' : 'none';\n",
              "\n",
              "      async function convertToInteractive(key) {\n",
              "        const element = document.querySelector('#df-c3a859c3-f1ef-4191-87c4-22dababaa401');\n",
              "        const dataTable =\n",
              "          await google.colab.kernel.invokeFunction('convertToInteractive',\n",
              "                                                    [key], {});\n",
              "        if (!dataTable) return;\n",
              "\n",
              "        const docLinkHtml = 'Like what you see? Visit the ' +\n",
              "          '<a target=\"_blank\" href=https://colab.research.google.com/notebooks/data_table.ipynb>data table notebook</a>'\n",
              "          + ' to learn more about interactive tables.';\n",
              "        element.innerHTML = '';\n",
              "        dataTable['output_type'] = 'display_data';\n",
              "        await google.colab.output.renderOutput(dataTable, element);\n",
              "        const docLink = document.createElement('div');\n",
              "        docLink.innerHTML = docLinkHtml;\n",
              "        element.appendChild(docLink);\n",
              "      }\n",
              "    </script>\n",
              "  </div>\n",
              "\n",
              "\n",
              "<div id=\"df-c780e319-cb8e-40bf-a480-45992237ef6b\">\n",
              "  <button class=\"colab-df-quickchart\" onclick=\"quickchart('df-c780e319-cb8e-40bf-a480-45992237ef6b')\"\n",
              "            title=\"Suggest charts\"\n",
              "            style=\"display:none;\">\n",
              "\n",
              "<svg xmlns=\"http://www.w3.org/2000/svg\" height=\"24px\"viewBox=\"0 0 24 24\"\n",
              "     width=\"24px\">\n",
              "    <g>\n",
              "        <path d=\"M19 3H5c-1.1 0-2 .9-2 2v14c0 1.1.9 2 2 2h14c1.1 0 2-.9 2-2V5c0-1.1-.9-2-2-2zM9 17H7v-7h2v7zm4 0h-2V7h2v10zm4 0h-2v-4h2v4z\"/>\n",
              "    </g>\n",
              "</svg>\n",
              "  </button>\n",
              "\n",
              "<style>\n",
              "  .colab-df-quickchart {\n",
              "      --bg-color: #E8F0FE;\n",
              "      --fill-color: #1967D2;\n",
              "      --hover-bg-color: #E2EBFA;\n",
              "      --hover-fill-color: #174EA6;\n",
              "      --disabled-fill-color: #AAA;\n",
              "      --disabled-bg-color: #DDD;\n",
              "  }\n",
              "\n",
              "  [theme=dark] .colab-df-quickchart {\n",
              "      --bg-color: #3B4455;\n",
              "      --fill-color: #D2E3FC;\n",
              "      --hover-bg-color: #434B5C;\n",
              "      --hover-fill-color: #FFFFFF;\n",
              "      --disabled-bg-color: #3B4455;\n",
              "      --disabled-fill-color: #666;\n",
              "  }\n",
              "\n",
              "  .colab-df-quickchart {\n",
              "    background-color: var(--bg-color);\n",
              "    border: none;\n",
              "    border-radius: 50%;\n",
              "    cursor: pointer;\n",
              "    display: none;\n",
              "    fill: var(--fill-color);\n",
              "    height: 32px;\n",
              "    padding: 0;\n",
              "    width: 32px;\n",
              "  }\n",
              "\n",
              "  .colab-df-quickchart:hover {\n",
              "    background-color: var(--hover-bg-color);\n",
              "    box-shadow: 0 1px 2px rgba(60, 64, 67, 0.3), 0 1px 3px 1px rgba(60, 64, 67, 0.15);\n",
              "    fill: var(--button-hover-fill-color);\n",
              "  }\n",
              "\n",
              "  .colab-df-quickchart-complete:disabled,\n",
              "  .colab-df-quickchart-complete:disabled:hover {\n",
              "    background-color: var(--disabled-bg-color);\n",
              "    fill: var(--disabled-fill-color);\n",
              "    box-shadow: none;\n",
              "  }\n",
              "\n",
              "  .colab-df-spinner {\n",
              "    border: 2px solid var(--fill-color);\n",
              "    border-color: transparent;\n",
              "    border-bottom-color: var(--fill-color);\n",
              "    animation:\n",
              "      spin 1s steps(1) infinite;\n",
              "  }\n",
              "\n",
              "  @keyframes spin {\n",
              "    0% {\n",
              "      border-color: transparent;\n",
              "      border-bottom-color: var(--fill-color);\n",
              "      border-left-color: var(--fill-color);\n",
              "    }\n",
              "    20% {\n",
              "      border-color: transparent;\n",
              "      border-left-color: var(--fill-color);\n",
              "      border-top-color: var(--fill-color);\n",
              "    }\n",
              "    30% {\n",
              "      border-color: transparent;\n",
              "      border-left-color: var(--fill-color);\n",
              "      border-top-color: var(--fill-color);\n",
              "      border-right-color: var(--fill-color);\n",
              "    }\n",
              "    40% {\n",
              "      border-color: transparent;\n",
              "      border-right-color: var(--fill-color);\n",
              "      border-top-color: var(--fill-color);\n",
              "    }\n",
              "    60% {\n",
              "      border-color: transparent;\n",
              "      border-right-color: var(--fill-color);\n",
              "    }\n",
              "    80% {\n",
              "      border-color: transparent;\n",
              "      border-right-color: var(--fill-color);\n",
              "      border-bottom-color: var(--fill-color);\n",
              "    }\n",
              "    90% {\n",
              "      border-color: transparent;\n",
              "      border-bottom-color: var(--fill-color);\n",
              "    }\n",
              "  }\n",
              "</style>\n",
              "\n",
              "  <script>\n",
              "    async function quickchart(key) {\n",
              "      const quickchartButtonEl =\n",
              "        document.querySelector('#' + key + ' button');\n",
              "      quickchartButtonEl.disabled = true;  // To prevent multiple clicks.\n",
              "      quickchartButtonEl.classList.add('colab-df-spinner');\n",
              "      try {\n",
              "        const charts = await google.colab.kernel.invokeFunction(\n",
              "            'suggestCharts', [key], {});\n",
              "      } catch (error) {\n",
              "        console.error('Error during call to suggestCharts:', error);\n",
              "      }\n",
              "      quickchartButtonEl.classList.remove('colab-df-spinner');\n",
              "      quickchartButtonEl.classList.add('colab-df-quickchart-complete');\n",
              "    }\n",
              "    (() => {\n",
              "      let quickchartButtonEl =\n",
              "        document.querySelector('#df-c780e319-cb8e-40bf-a480-45992237ef6b button');\n",
              "      quickchartButtonEl.style.display =\n",
              "        google.colab.kernel.accessAllowed ? 'block' : 'none';\n",
              "    })();\n",
              "  </script>\n",
              "</div>\n",
              "    </div>\n",
              "  </div>\n"
            ],
            "text/plain": [
              "                word   ari  length\n",
              "995      Platycerium  30.9      11\n",
              "996  podophthalmitic  49.7      15\n",
              "997          venules  12.0       7\n",
              "998            MDACS   2.6       5\n",
              "999     undescending  35.6      12"
            ]
          },
          "execution_count": 10,
          "metadata": {},
          "output_type": "execute_result"
        }
      ],
      "source": [
        "training_df.tail()"
      ]
    },
    {
      "cell_type": "code",
      "execution_count": null,
      "metadata": {
        "colab": {
          "base_uri": "https://localhost:8080/",
          "height": 36
        },
        "id": "kdJy-yB2roOa",
        "outputId": "02bcc344-2706-4368-928d-b7dc26b00dc5"
      },
      "outputs": [
        {
          "data": {
            "application/vnd.google.colaboratory.intrinsic+json": {
              "type": "string"
            },
            "text/plain": [
              "\"unique_elements = training_df['language'].unique()\\n\\nprint(unique_elements)\""
            ]
          },
          "execution_count": 11,
          "metadata": {},
          "output_type": "execute_result"
        }
      ],
      "source": [
        "'''unique_elements = training_df['language'].unique()\n",
        "\n",
        "print(unique_elements)'''"
      ]
    },
    {
      "cell_type": "code",
      "execution_count": null,
      "metadata": {
        "colab": {
          "base_uri": "https://localhost:8080/",
          "height": 36
        },
        "id": "FZzJtk88RxC0",
        "outputId": "ce3860e5-dcfb-4ab6-fce0-1d0aa2ecb8aa"
      },
      "outputs": [
        {
          "data": {
            "application/vnd.google.colaboratory.intrinsic+json": {
              "type": "string"
            },
            "text/plain": [
              "\"label_encoder = LabelEncoder()\\ntraining_df['language'] = label_encoder.fit_transform(training_df['language'])\""
            ]
          },
          "execution_count": 12,
          "metadata": {},
          "output_type": "execute_result"
        }
      ],
      "source": [
        "'''label_encoder = LabelEncoder()\n",
        "training_df['language'] = label_encoder.fit_transform(training_df['language'])'''"
      ]
    },
    {
      "cell_type": "code",
      "execution_count": null,
      "metadata": {
        "id": "bVj7yHWa6Qm2"
      },
      "outputs": [],
      "source": [
        "training_df['word_vector'] = training_df['word'].apply(word_to_vec)\n",
        "\n",
        "training_df = training_df.dropna(subset=['word_vector'])"
      ]
    },
    {
      "attachments": {},
      "cell_type": "markdown",
      "metadata": {
        "id": "xYxD79m0Jd7t"
      },
      "source": [
        "**Scaling**"
      ]
    },
    {
      "cell_type": "code",
      "execution_count": null,
      "metadata": {
        "id": "rq0rG198Ua89"
      },
      "outputs": [],
      "source": [
        "scaler = StandardScaler()\n",
        "\n",
        "X_train_word_vector = np.stack(training_df['word_vector'].to_numpy())\n",
        "X_train_other_features = scaler.fit_transform(training_df[feature_columns])\n",
        "\n",
        "X_train = np.concatenate((X_train_word_vector, X_train_other_features), axis=1)"
      ]
    },
    {
      "cell_type": "code",
      "execution_count": null,
      "metadata": {
        "colab": {
          "base_uri": "https://localhost:8080/",
          "height": 423
        },
        "id": "mArNEcFZXQba",
        "outputId": "3cd1e045-3006-4eab-ca5a-49b2e47dbc0a"
      },
      "outputs": [
        {
          "data": {
            "text/html": [
              "\n",
              "  <div id=\"df-eea22538-4290-47ec-8f39-441a4a849f48\" class=\"colab-df-container\">\n",
              "    <div>\n",
              "<style scoped>\n",
              "    .dataframe tbody tr th:only-of-type {\n",
              "        vertical-align: middle;\n",
              "    }\n",
              "\n",
              "    .dataframe tbody tr th {\n",
              "        vertical-align: top;\n",
              "    }\n",
              "\n",
              "    .dataframe thead th {\n",
              "        text-align: right;\n",
              "    }\n",
              "</style>\n",
              "<table border=\"1\" class=\"dataframe\">\n",
              "  <thead>\n",
              "    <tr style=\"text-align: right;\">\n",
              "      <th></th>\n",
              "      <th>word</th>\n",
              "      <th>ari</th>\n",
              "      <th>length</th>\n",
              "      <th>word_vector</th>\n",
              "    </tr>\n",
              "  </thead>\n",
              "  <tbody>\n",
              "    <tr>\n",
              "      <th>0</th>\n",
              "      <td>fullwords</td>\n",
              "      <td>21.5</td>\n",
              "      <td>9</td>\n",
              "      <td>[0.0077405954, 0.0029341686, 0.0033583308, -0....</td>\n",
              "    </tr>\n",
              "    <tr>\n",
              "      <th>1</th>\n",
              "      <td>wealthful</td>\n",
              "      <td>21.5</td>\n",
              "      <td>9</td>\n",
              "      <td>[0.0007027149, -0.002174523, 0.0021456135, 0.0...</td>\n",
              "    </tr>\n",
              "    <tr>\n",
              "      <th>2</th>\n",
              "      <td>faery</td>\n",
              "      <td>2.6</td>\n",
              "      <td>5</td>\n",
              "      <td>[0.0015684175, -0.005820459, -0.0030434965, 0....</td>\n",
              "    </tr>\n",
              "    <tr>\n",
              "      <th>3</th>\n",
              "      <td>bien</td>\n",
              "      <td>-2.2</td>\n",
              "      <td>4</td>\n",
              "      <td>[-0.007639743, 0.00909951, -0.00711702, -0.008...</td>\n",
              "    </tr>\n",
              "    <tr>\n",
              "      <th>4</th>\n",
              "      <td>disfoliaged</td>\n",
              "      <td>30.9</td>\n",
              "      <td>11</td>\n",
              "      <td>[0.006201693, 0.0046572518, -0.0016358948, 0.0...</td>\n",
              "    </tr>\n",
              "    <tr>\n",
              "      <th>...</th>\n",
              "      <td>...</td>\n",
              "      <td>...</td>\n",
              "      <td>...</td>\n",
              "      <td>...</td>\n",
              "    </tr>\n",
              "    <tr>\n",
              "      <th>995</th>\n",
              "      <td>Platycerium</td>\n",
              "      <td>30.9</td>\n",
              "      <td>11</td>\n",
              "      <td>[0.002985536, 0.002697028, -0.009923629, 0.008...</td>\n",
              "    </tr>\n",
              "    <tr>\n",
              "      <th>996</th>\n",
              "      <td>podophthalmitic</td>\n",
              "      <td>49.7</td>\n",
              "      <td>15</td>\n",
              "      <td>[-0.0016845203, -0.0042065787, -0.0011288703, ...</td>\n",
              "    </tr>\n",
              "    <tr>\n",
              "      <th>997</th>\n",
              "      <td>venules</td>\n",
              "      <td>12.0</td>\n",
              "      <td>7</td>\n",
              "      <td>[-0.0029379833, 0.0056716693, 0.005209936, -0....</td>\n",
              "    </tr>\n",
              "    <tr>\n",
              "      <th>998</th>\n",
              "      <td>MDACS</td>\n",
              "      <td>2.6</td>\n",
              "      <td>5</td>\n",
              "      <td>[0.0012034822, -0.007561735, 0.00914108, 0.005...</td>\n",
              "    </tr>\n",
              "    <tr>\n",
              "      <th>999</th>\n",
              "      <td>undescending</td>\n",
              "      <td>35.6</td>\n",
              "      <td>12</td>\n",
              "      <td>[0.000105104446, -0.0021942651, 0.0067696655, ...</td>\n",
              "    </tr>\n",
              "  </tbody>\n",
              "</table>\n",
              "<p>1000 rows × 4 columns</p>\n",
              "</div>\n",
              "    <div class=\"colab-df-buttons\">\n",
              "\n",
              "  <div class=\"colab-df-container\">\n",
              "    <button class=\"colab-df-convert\" onclick=\"convertToInteractive('df-eea22538-4290-47ec-8f39-441a4a849f48')\"\n",
              "            title=\"Convert this dataframe to an interactive table.\"\n",
              "            style=\"display:none;\">\n",
              "\n",
              "  <svg xmlns=\"http://www.w3.org/2000/svg\" height=\"24px\" viewBox=\"0 -960 960 960\">\n",
              "    <path d=\"M120-120v-720h720v720H120Zm60-500h600v-160H180v160Zm220 220h160v-160H400v160Zm0 220h160v-160H400v160ZM180-400h160v-160H180v160Zm440 0h160v-160H620v160ZM180-180h160v-160H180v160Zm440 0h160v-160H620v160Z\"/>\n",
              "  </svg>\n",
              "    </button>\n",
              "\n",
              "  <style>\n",
              "    .colab-df-container {\n",
              "      display:flex;\n",
              "      gap: 12px;\n",
              "    }\n",
              "\n",
              "    .colab-df-convert {\n",
              "      background-color: #E8F0FE;\n",
              "      border: none;\n",
              "      border-radius: 50%;\n",
              "      cursor: pointer;\n",
              "      display: none;\n",
              "      fill: #1967D2;\n",
              "      height: 32px;\n",
              "      padding: 0 0 0 0;\n",
              "      width: 32px;\n",
              "    }\n",
              "\n",
              "    .colab-df-convert:hover {\n",
              "      background-color: #E2EBFA;\n",
              "      box-shadow: 0px 1px 2px rgba(60, 64, 67, 0.3), 0px 1px 3px 1px rgba(60, 64, 67, 0.15);\n",
              "      fill: #174EA6;\n",
              "    }\n",
              "\n",
              "    .colab-df-buttons div {\n",
              "      margin-bottom: 4px;\n",
              "    }\n",
              "\n",
              "    [theme=dark] .colab-df-convert {\n",
              "      background-color: #3B4455;\n",
              "      fill: #D2E3FC;\n",
              "    }\n",
              "\n",
              "    [theme=dark] .colab-df-convert:hover {\n",
              "      background-color: #434B5C;\n",
              "      box-shadow: 0px 1px 3px 1px rgba(0, 0, 0, 0.15);\n",
              "      filter: drop-shadow(0px 1px 2px rgba(0, 0, 0, 0.3));\n",
              "      fill: #FFFFFF;\n",
              "    }\n",
              "  </style>\n",
              "\n",
              "    <script>\n",
              "      const buttonEl =\n",
              "        document.querySelector('#df-eea22538-4290-47ec-8f39-441a4a849f48 button.colab-df-convert');\n",
              "      buttonEl.style.display =\n",
              "        google.colab.kernel.accessAllowed ? 'block' : 'none';\n",
              "\n",
              "      async function convertToInteractive(key) {\n",
              "        const element = document.querySelector('#df-eea22538-4290-47ec-8f39-441a4a849f48');\n",
              "        const dataTable =\n",
              "          await google.colab.kernel.invokeFunction('convertToInteractive',\n",
              "                                                    [key], {});\n",
              "        if (!dataTable) return;\n",
              "\n",
              "        const docLinkHtml = 'Like what you see? Visit the ' +\n",
              "          '<a target=\"_blank\" href=https://colab.research.google.com/notebooks/data_table.ipynb>data table notebook</a>'\n",
              "          + ' to learn more about interactive tables.';\n",
              "        element.innerHTML = '';\n",
              "        dataTable['output_type'] = 'display_data';\n",
              "        await google.colab.output.renderOutput(dataTable, element);\n",
              "        const docLink = document.createElement('div');\n",
              "        docLink.innerHTML = docLinkHtml;\n",
              "        element.appendChild(docLink);\n",
              "      }\n",
              "    </script>\n",
              "  </div>\n",
              "\n",
              "\n",
              "<div id=\"df-effe5442-2920-487f-a8f0-8857d08906a6\">\n",
              "  <button class=\"colab-df-quickchart\" onclick=\"quickchart('df-effe5442-2920-487f-a8f0-8857d08906a6')\"\n",
              "            title=\"Suggest charts\"\n",
              "            style=\"display:none;\">\n",
              "\n",
              "<svg xmlns=\"http://www.w3.org/2000/svg\" height=\"24px\"viewBox=\"0 0 24 24\"\n",
              "     width=\"24px\">\n",
              "    <g>\n",
              "        <path d=\"M19 3H5c-1.1 0-2 .9-2 2v14c0 1.1.9 2 2 2h14c1.1 0 2-.9 2-2V5c0-1.1-.9-2-2-2zM9 17H7v-7h2v7zm4 0h-2V7h2v10zm4 0h-2v-4h2v4z\"/>\n",
              "    </g>\n",
              "</svg>\n",
              "  </button>\n",
              "\n",
              "<style>\n",
              "  .colab-df-quickchart {\n",
              "      --bg-color: #E8F0FE;\n",
              "      --fill-color: #1967D2;\n",
              "      --hover-bg-color: #E2EBFA;\n",
              "      --hover-fill-color: #174EA6;\n",
              "      --disabled-fill-color: #AAA;\n",
              "      --disabled-bg-color: #DDD;\n",
              "  }\n",
              "\n",
              "  [theme=dark] .colab-df-quickchart {\n",
              "      --bg-color: #3B4455;\n",
              "      --fill-color: #D2E3FC;\n",
              "      --hover-bg-color: #434B5C;\n",
              "      --hover-fill-color: #FFFFFF;\n",
              "      --disabled-bg-color: #3B4455;\n",
              "      --disabled-fill-color: #666;\n",
              "  }\n",
              "\n",
              "  .colab-df-quickchart {\n",
              "    background-color: var(--bg-color);\n",
              "    border: none;\n",
              "    border-radius: 50%;\n",
              "    cursor: pointer;\n",
              "    display: none;\n",
              "    fill: var(--fill-color);\n",
              "    height: 32px;\n",
              "    padding: 0;\n",
              "    width: 32px;\n",
              "  }\n",
              "\n",
              "  .colab-df-quickchart:hover {\n",
              "    background-color: var(--hover-bg-color);\n",
              "    box-shadow: 0 1px 2px rgba(60, 64, 67, 0.3), 0 1px 3px 1px rgba(60, 64, 67, 0.15);\n",
              "    fill: var(--button-hover-fill-color);\n",
              "  }\n",
              "\n",
              "  .colab-df-quickchart-complete:disabled,\n",
              "  .colab-df-quickchart-complete:disabled:hover {\n",
              "    background-color: var(--disabled-bg-color);\n",
              "    fill: var(--disabled-fill-color);\n",
              "    box-shadow: none;\n",
              "  }\n",
              "\n",
              "  .colab-df-spinner {\n",
              "    border: 2px solid var(--fill-color);\n",
              "    border-color: transparent;\n",
              "    border-bottom-color: var(--fill-color);\n",
              "    animation:\n",
              "      spin 1s steps(1) infinite;\n",
              "  }\n",
              "\n",
              "  @keyframes spin {\n",
              "    0% {\n",
              "      border-color: transparent;\n",
              "      border-bottom-color: var(--fill-color);\n",
              "      border-left-color: var(--fill-color);\n",
              "    }\n",
              "    20% {\n",
              "      border-color: transparent;\n",
              "      border-left-color: var(--fill-color);\n",
              "      border-top-color: var(--fill-color);\n",
              "    }\n",
              "    30% {\n",
              "      border-color: transparent;\n",
              "      border-left-color: var(--fill-color);\n",
              "      border-top-color: var(--fill-color);\n",
              "      border-right-color: var(--fill-color);\n",
              "    }\n",
              "    40% {\n",
              "      border-color: transparent;\n",
              "      border-right-color: var(--fill-color);\n",
              "      border-top-color: var(--fill-color);\n",
              "    }\n",
              "    60% {\n",
              "      border-color: transparent;\n",
              "      border-right-color: var(--fill-color);\n",
              "    }\n",
              "    80% {\n",
              "      border-color: transparent;\n",
              "      border-right-color: var(--fill-color);\n",
              "      border-bottom-color: var(--fill-color);\n",
              "    }\n",
              "    90% {\n",
              "      border-color: transparent;\n",
              "      border-bottom-color: var(--fill-color);\n",
              "    }\n",
              "  }\n",
              "</style>\n",
              "\n",
              "  <script>\n",
              "    async function quickchart(key) {\n",
              "      const quickchartButtonEl =\n",
              "        document.querySelector('#' + key + ' button');\n",
              "      quickchartButtonEl.disabled = true;  // To prevent multiple clicks.\n",
              "      quickchartButtonEl.classList.add('colab-df-spinner');\n",
              "      try {\n",
              "        const charts = await google.colab.kernel.invokeFunction(\n",
              "            'suggestCharts', [key], {});\n",
              "      } catch (error) {\n",
              "        console.error('Error during call to suggestCharts:', error);\n",
              "      }\n",
              "      quickchartButtonEl.classList.remove('colab-df-spinner');\n",
              "      quickchartButtonEl.classList.add('colab-df-quickchart-complete');\n",
              "    }\n",
              "    (() => {\n",
              "      let quickchartButtonEl =\n",
              "        document.querySelector('#df-effe5442-2920-487f-a8f0-8857d08906a6 button');\n",
              "      quickchartButtonEl.style.display =\n",
              "        google.colab.kernel.accessAllowed ? 'block' : 'none';\n",
              "    })();\n",
              "  </script>\n",
              "</div>\n",
              "    </div>\n",
              "  </div>\n"
            ],
            "text/plain": [
              "                word   ari  length  \\\n",
              "0          fullwords  21.5       9   \n",
              "1          wealthful  21.5       9   \n",
              "2              faery   2.6       5   \n",
              "3               bien  -2.2       4   \n",
              "4        disfoliaged  30.9      11   \n",
              "..               ...   ...     ...   \n",
              "995      Platycerium  30.9      11   \n",
              "996  podophthalmitic  49.7      15   \n",
              "997          venules  12.0       7   \n",
              "998            MDACS   2.6       5   \n",
              "999     undescending  35.6      12   \n",
              "\n",
              "                                           word_vector  \n",
              "0    [0.0077405954, 0.0029341686, 0.0033583308, -0....  \n",
              "1    [0.0007027149, -0.002174523, 0.0021456135, 0.0...  \n",
              "2    [0.0015684175, -0.005820459, -0.0030434965, 0....  \n",
              "3    [-0.007639743, 0.00909951, -0.00711702, -0.008...  \n",
              "4    [0.006201693, 0.0046572518, -0.0016358948, 0.0...  \n",
              "..                                                 ...  \n",
              "995  [0.002985536, 0.002697028, -0.009923629, 0.008...  \n",
              "996  [-0.0016845203, -0.0042065787, -0.0011288703, ...  \n",
              "997  [-0.0029379833, 0.0056716693, 0.005209936, -0....  \n",
              "998  [0.0012034822, -0.007561735, 0.00914108, 0.005...  \n",
              "999  [0.000105104446, -0.0021942651, 0.0067696655, ...  \n",
              "\n",
              "[1000 rows x 4 columns]"
            ]
          },
          "execution_count": 15,
          "metadata": {},
          "output_type": "execute_result"
        }
      ],
      "source": [
        "training_df"
      ]
    },
    {
      "cell_type": "code",
      "execution_count": null,
      "metadata": {
        "colab": {
          "base_uri": "https://localhost:8080/"
        },
        "id": "hueRlQcIe_Ex",
        "outputId": "e1d4ca3e-5a7b-418d-ba44-16c4ff14d505"
      },
      "outputs": [
        {
          "data": {
            "text/plain": [
              "array([[ 7.74059538e-03,  2.93416856e-03,  3.35833081e-03, ...,\n",
              "        -4.57348581e-03, -7.18034919e-02, -7.42404331e-02],\n",
              "       [ 7.02714897e-04, -2.17452296e-03,  2.14561354e-03, ...,\n",
              "         5.14384033e-03, -7.18034919e-02, -7.42404331e-02],\n",
              "       [ 1.56841753e-03, -5.82045922e-03, -3.04349652e-03, ...,\n",
              "         6.32146839e-03, -1.43708115e+00, -1.43645021e+00],\n",
              "       ...,\n",
              "       [-2.93798326e-03,  5.67166926e-03,  5.20993583e-03, ...,\n",
              "        -4.86354716e-03, -7.58054169e-01, -7.55345323e-01],\n",
              "       [ 1.20348216e-03, -7.56173488e-03,  9.14108008e-03, ...,\n",
              "        -6.21338980e-03, -1.43708115e+00, -1.43645021e+00],\n",
              "       [ 1.05104446e-04, -2.19426514e-03,  6.76966552e-03, ...,\n",
              "        -7.41967559e-03,  9.46736987e-01,  9.47416903e-01]])"
            ]
          },
          "execution_count": 16,
          "metadata": {},
          "output_type": "execute_result"
        }
      ],
      "source": [
        "X_train"
      ]
    },
    {
      "attachments": {},
      "cell_type": "markdown",
      "metadata": {
        "id": "VuKmdvwuJhCC"
      },
      "source": [
        "**Using the Elbow Method to find the optimal number of clusters**"
      ]
    },
    {
      "cell_type": "code",
      "execution_count": null,
      "metadata": {
        "colab": {
          "base_uri": "https://localhost:8080/",
          "height": 472
        },
        "id": "KOoNt4-ygX1P",
        "outputId": "2b3a627c-d0f0-4526-be85-98bbb64ab85e"
      },
      "outputs": [
        {
          "data": {
            "image/png": "[encoded data removed]",
            "text/plain": [
              "<Figure size 640x480 with 1 Axes>"
            ]
          },
          "metadata": {},
          "output_type": "display_data"
        }
      ],
      "source": [
        "wcss = []\n",
        "\n",
        "for i in range(1, 25):\n",
        "    kmeans = KMeans(n_clusters=i, init='k-means++', max_iter=300, n_init=10, random_state=0)\n",
        "    kmeans.fit(X_train)\n",
        "    wcss.append(kmeans.inertia_)\n",
        "\n",
        "plt.plot(range(1, 25), wcss)\n",
        "plt.title('Elbow Method')\n",
        "plt.xlabel('Number of clusters')\n",
        "plt.ylabel('WCSS')\n",
        "plt.show()\n",
        "\n",
        "optimal_clusters = 16\n",
        "\n",
        "kmeans = KMeans(n_clusters=optimal_clusters, init='k-means++', max_iter=300, n_init=10, random_state=0)\n",
        "training_df['cluster'] = kmeans.fit_predict(X_train)"
      ]
    },
    {
      "cell_type": "code",
      "execution_count": null,
      "metadata": {
        "colab": {
          "base_uri": "https://localhost:8080/",
          "height": 423
        },
        "id": "Cq_4laloi6Al",
        "outputId": "ff2dfd16-8863-4003-dcd3-834d242fe7e3"
      },
      "outputs": [
        {
          "data": {
            "text/html": [
              "\n",
              "  <div id=\"df-f089da2b-8c59-450e-a9f6-22d57be34972\" class=\"colab-df-container\">\n",
              "    <div>\n",
              "<style scoped>\n",
              "    .dataframe tbody tr th:only-of-type {\n",
              "        vertical-align: middle;\n",
              "    }\n",
              "\n",
              "    .dataframe tbody tr th {\n",
              "        vertical-align: top;\n",
              "    }\n",
              "\n",
              "    .dataframe thead th {\n",
              "        text-align: right;\n",
              "    }\n",
              "</style>\n",
              "<table border=\"1\" class=\"dataframe\">\n",
              "  <thead>\n",
              "    <tr style=\"text-align: right;\">\n",
              "      <th></th>\n",
              "      <th>word</th>\n",
              "      <th>ari</th>\n",
              "      <th>length</th>\n",
              "      <th>word_vector</th>\n",
              "      <th>cluster</th>\n",
              "    </tr>\n",
              "  </thead>\n",
              "  <tbody>\n",
              "    <tr>\n",
              "      <th>0</th>\n",
              "      <td>fullwords</td>\n",
              "      <td>21.5</td>\n",
              "      <td>9</td>\n",
              "      <td>[0.0077405954, 0.0029341686, 0.0033583308, -0....</td>\n",
              "      <td>3</td>\n",
              "    </tr>\n",
              "    <tr>\n",
              "      <th>1</th>\n",
              "      <td>wealthful</td>\n",
              "      <td>21.5</td>\n",
              "      <td>9</td>\n",
              "      <td>[0.0007027149, -0.002174523, 0.0021456135, 0.0...</td>\n",
              "      <td>3</td>\n",
              "    </tr>\n",
              "    <tr>\n",
              "      <th>2</th>\n",
              "      <td>faery</td>\n",
              "      <td>2.6</td>\n",
              "      <td>5</td>\n",
              "      <td>[0.0015684175, -0.005820459, -0.0030434965, 0....</td>\n",
              "      <td>4</td>\n",
              "    </tr>\n",
              "    <tr>\n",
              "      <th>3</th>\n",
              "      <td>bien</td>\n",
              "      <td>-2.2</td>\n",
              "      <td>4</td>\n",
              "      <td>[-0.007639743, 0.00909951, -0.00711702, -0.008...</td>\n",
              "      <td>13</td>\n",
              "    </tr>\n",
              "    <tr>\n",
              "      <th>4</th>\n",
              "      <td>disfoliaged</td>\n",
              "      <td>30.9</td>\n",
              "      <td>11</td>\n",
              "      <td>[0.006201693, 0.0046572518, -0.0016358948, 0.0...</td>\n",
              "      <td>8</td>\n",
              "    </tr>\n",
              "    <tr>\n",
              "      <th>...</th>\n",
              "      <td>...</td>\n",
              "      <td>...</td>\n",
              "      <td>...</td>\n",
              "      <td>...</td>\n",
              "      <td>...</td>\n",
              "    </tr>\n",
              "    <tr>\n",
              "      <th>995</th>\n",
              "      <td>Platycerium</td>\n",
              "      <td>30.9</td>\n",
              "      <td>11</td>\n",
              "      <td>[0.002985536, 0.002697028, -0.009923629, 0.008...</td>\n",
              "      <td>8</td>\n",
              "    </tr>\n",
              "    <tr>\n",
              "      <th>996</th>\n",
              "      <td>podophthalmitic</td>\n",
              "      <td>49.7</td>\n",
              "      <td>15</td>\n",
              "      <td>[-0.0016845203, -0.0042065787, -0.0011288703, ...</td>\n",
              "      <td>14</td>\n",
              "    </tr>\n",
              "    <tr>\n",
              "      <th>997</th>\n",
              "      <td>venules</td>\n",
              "      <td>12.0</td>\n",
              "      <td>7</td>\n",
              "      <td>[-0.0029379833, 0.0056716693, 0.005209936, -0....</td>\n",
              "      <td>1</td>\n",
              "    </tr>\n",
              "    <tr>\n",
              "      <th>998</th>\n",
              "      <td>MDACS</td>\n",
              "      <td>2.6</td>\n",
              "      <td>5</td>\n",
              "      <td>[0.0012034822, -0.007561735, 0.00914108, 0.005...</td>\n",
              "      <td>4</td>\n",
              "    </tr>\n",
              "    <tr>\n",
              "      <th>999</th>\n",
              "      <td>undescending</td>\n",
              "      <td>35.6</td>\n",
              "      <td>12</td>\n",
              "      <td>[0.000105104446, -0.0021942651, 0.0067696655, ...</td>\n",
              "      <td>2</td>\n",
              "    </tr>\n",
              "  </tbody>\n",
              "</table>\n",
              "<p>1000 rows × 5 columns</p>\n",
              "</div>\n",
              "    <div class=\"colab-df-buttons\">\n",
              "\n",
              "  <div class=\"colab-df-container\">\n",
              "    <button class=\"colab-df-convert\" onclick=\"convertToInteractive('df-f089da2b-8c59-450e-a9f6-22d57be34972')\"\n",
              "            title=\"Convert this dataframe to an interactive table.\"\n",
              "            style=\"display:none;\">\n",
              "\n",
              "  <svg xmlns=\"http://www.w3.org/2000/svg\" height=\"24px\" viewBox=\"0 -960 960 960\">\n",
              "    <path d=\"M120-120v-720h720v720H120Zm60-500h600v-160H180v160Zm220 220h160v-160H400v160Zm0 220h160v-160H400v160ZM180-400h160v-160H180v160Zm440 0h160v-160H620v160ZM180-180h160v-160H180v160Zm440 0h160v-160H620v160Z\"/>\n",
              "  </svg>\n",
              "    </button>\n",
              "\n",
              "  <style>\n",
              "    .colab-df-container {\n",
              "      display:flex;\n",
              "      gap: 12px;\n",
              "    }\n",
              "\n",
              "    .colab-df-convert {\n",
              "      background-color: #E8F0FE;\n",
              "      border: none;\n",
              "      border-radius: 50%;\n",
              "      cursor: pointer;\n",
              "      display: none;\n",
              "      fill: #1967D2;\n",
              "      height: 32px;\n",
              "      padding: 0 0 0 0;\n",
              "      width: 32px;\n",
              "    }\n",
              "\n",
              "    .colab-df-convert:hover {\n",
              "      background-color: #E2EBFA;\n",
              "      box-shadow: 0px 1px 2px rgba(60, 64, 67, 0.3), 0px 1px 3px 1px rgba(60, 64, 67, 0.15);\n",
              "      fill: #174EA6;\n",
              "    }\n",
              "\n",
              "    .colab-df-buttons div {\n",
              "      margin-bottom: 4px;\n",
              "    }\n",
              "\n",
              "    [theme=dark] .colab-df-convert {\n",
              "      background-color: #3B4455;\n",
              "      fill: #D2E3FC;\n",
              "    }\n",
              "\n",
              "    [theme=dark] .colab-df-convert:hover {\n",
              "      background-color: #434B5C;\n",
              "      box-shadow: 0px 1px 3px 1px rgba(0, 0, 0, 0.15);\n",
              "      filter: drop-shadow(0px 1px 2px rgba(0, 0, 0, 0.3));\n",
              "      fill: #FFFFFF;\n",
              "    }\n",
              "  </style>\n",
              "\n",
              "    <script>\n",
              "      const buttonEl =\n",
              "        document.querySelector('#df-f089da2b-8c59-450e-a9f6-22d57be34972 button.colab-df-convert');\n",
              "      buttonEl.style.display =\n",
              "        google.colab.kernel.accessAllowed ? 'block' : 'none';\n",
              "\n",
              "      async function convertToInteractive(key) {\n",
              "        const element = document.querySelector('#df-f089da2b-8c59-450e-a9f6-22d57be34972');\n",
              "        const dataTable =\n",
              "          await google.colab.kernel.invokeFunction('convertToInteractive',\n",
              "                                                    [key], {});\n",
              "        if (!dataTable) return;\n",
              "\n",
              "        const docLinkHtml = 'Like what you see? Visit the ' +\n",
              "          '<a target=\"_blank\" href=https://colab.research.google.com/notebooks/data_table.ipynb>data table notebook</a>'\n",
              "          + ' to learn more about interactive tables.';\n",
              "        element.innerHTML = '';\n",
              "        dataTable['output_type'] = 'display_data';\n",
              "        await google.colab.output.renderOutput(dataTable, element);\n",
              "        const docLink = document.createElement('div');\n",
              "        docLink.innerHTML = docLinkHtml;\n",
              "        element.appendChild(docLink);\n",
              "      }\n",
              "    </script>\n",
              "  </div>\n",
              "\n",
              "\n",
              "<div id=\"df-d2a4f68f-8be2-45ce-aeeb-9166aae913bb\">\n",
              "  <button class=\"colab-df-quickchart\" onclick=\"quickchart('df-d2a4f68f-8be2-45ce-aeeb-9166aae913bb')\"\n",
              "            title=\"Suggest charts\"\n",
              "            style=\"display:none;\">\n",
              "\n",
              "<svg xmlns=\"http://www.w3.org/2000/svg\" height=\"24px\"viewBox=\"0 0 24 24\"\n",
              "     width=\"24px\">\n",
              "    <g>\n",
              "        <path d=\"M19 3H5c-1.1 0-2 .9-2 2v14c0 1.1.9 2 2 2h14c1.1 0 2-.9 2-2V5c0-1.1-.9-2-2-2zM9 17H7v-7h2v7zm4 0h-2V7h2v10zm4 0h-2v-4h2v4z\"/>\n",
              "    </g>\n",
              "</svg>\n",
              "  </button>\n",
              "\n",
              "<style>\n",
              "  .colab-df-quickchart {\n",
              "      --bg-color: #E8F0FE;\n",
              "      --fill-color: #1967D2;\n",
              "      --hover-bg-color: #E2EBFA;\n",
              "      --hover-fill-color: #174EA6;\n",
              "      --disabled-fill-color: #AAA;\n",
              "      --disabled-bg-color: #DDD;\n",
              "  }\n",
              "\n",
              "  [theme=dark] .colab-df-quickchart {\n",
              "      --bg-color: #3B4455;\n",
              "      --fill-color: #D2E3FC;\n",
              "      --hover-bg-color: #434B5C;\n",
              "      --hover-fill-color: #FFFFFF;\n",
              "      --disabled-bg-color: #3B4455;\n",
              "      --disabled-fill-color: #666;\n",
              "  }\n",
              "\n",
              "  .colab-df-quickchart {\n",
              "    background-color: var(--bg-color);\n",
              "    border: none;\n",
              "    border-radius: 50%;\n",
              "    cursor: pointer;\n",
              "    display: none;\n",
              "    fill: var(--fill-color);\n",
              "    height: 32px;\n",
              "    padding: 0;\n",
              "    width: 32px;\n",
              "  }\n",
              "\n",
              "  .colab-df-quickchart:hover {\n",
              "    background-color: var(--hover-bg-color);\n",
              "    box-shadow: 0 1px 2px rgba(60, 64, 67, 0.3), 0 1px 3px 1px rgba(60, 64, 67, 0.15);\n",
              "    fill: var(--button-hover-fill-color);\n",
              "  }\n",
              "\n",
              "  .colab-df-quickchart-complete:disabled,\n",
              "  .colab-df-quickchart-complete:disabled:hover {\n",
              "    background-color: var(--disabled-bg-color);\n",
              "    fill: var(--disabled-fill-color);\n",
              "    box-shadow: none;\n",
              "  }\n",
              "\n",
              "  .colab-df-spinner {\n",
              "    border: 2px solid var(--fill-color);\n",
              "    border-color: transparent;\n",
              "    border-bottom-color: var(--fill-color);\n",
              "    animation:\n",
              "      spin 1s steps(1) infinite;\n",
              "  }\n",
              "\n",
              "  @keyframes spin {\n",
              "    0% {\n",
              "      border-color: transparent;\n",
              "      border-bottom-color: var(--fill-color);\n",
              "      border-left-color: var(--fill-color);\n",
              "    }\n",
              "    20% {\n",
              "      border-color: transparent;\n",
              "      border-left-color: var(--fill-color);\n",
              "      border-top-color: var(--fill-color);\n",
              "    }\n",
              "    30% {\n",
              "      border-color: transparent;\n",
              "      border-left-color: var(--fill-color);\n",
              "      border-top-color: var(--fill-color);\n",
              "      border-right-color: var(--fill-color);\n",
              "    }\n",
              "    40% {\n",
              "      border-color: transparent;\n",
              "      border-right-color: var(--fill-color);\n",
              "      border-top-color: var(--fill-color);\n",
              "    }\n",
              "    60% {\n",
              "      border-color: transparent;\n",
              "      border-right-color: var(--fill-color);\n",
              "    }\n",
              "    80% {\n",
              "      border-color: transparent;\n",
              "      border-right-color: var(--fill-color);\n",
              "      border-bottom-color: var(--fill-color);\n",
              "    }\n",
              "    90% {\n",
              "      border-color: transparent;\n",
              "      border-bottom-color: var(--fill-color);\n",
              "    }\n",
              "  }\n",
              "</style>\n",
              "\n",
              "  <script>\n",
              "    async function quickchart(key) {\n",
              "      const quickchartButtonEl =\n",
              "        document.querySelector('#' + key + ' button');\n",
              "      quickchartButtonEl.disabled = true;  // To prevent multiple clicks.\n",
              "      quickchartButtonEl.classList.add('colab-df-spinner');\n",
              "      try {\n",
              "        const charts = await google.colab.kernel.invokeFunction(\n",
              "            'suggestCharts', [key], {});\n",
              "      } catch (error) {\n",
              "        console.error('Error during call to suggestCharts:', error);\n",
              "      }\n",
              "      quickchartButtonEl.classList.remove('colab-df-spinner');\n",
              "      quickchartButtonEl.classList.add('colab-df-quickchart-complete');\n",
              "    }\n",
              "    (() => {\n",
              "      let quickchartButtonEl =\n",
              "        document.querySelector('#df-d2a4f68f-8be2-45ce-aeeb-9166aae913bb button');\n",
              "      quickchartButtonEl.style.display =\n",
              "        google.colab.kernel.accessAllowed ? 'block' : 'none';\n",
              "    })();\n",
              "  </script>\n",
              "</div>\n",
              "    </div>\n",
              "  </div>\n"
            ],
            "text/plain": [
              "                word   ari  length  \\\n",
              "0          fullwords  21.5       9   \n",
              "1          wealthful  21.5       9   \n",
              "2              faery   2.6       5   \n",
              "3               bien  -2.2       4   \n",
              "4        disfoliaged  30.9      11   \n",
              "..               ...   ...     ...   \n",
              "995      Platycerium  30.9      11   \n",
              "996  podophthalmitic  49.7      15   \n",
              "997          venules  12.0       7   \n",
              "998            MDACS   2.6       5   \n",
              "999     undescending  35.6      12   \n",
              "\n",
              "                                           word_vector  cluster  \n",
              "0    [0.0077405954, 0.0029341686, 0.0033583308, -0....        3  \n",
              "1    [0.0007027149, -0.002174523, 0.0021456135, 0.0...        3  \n",
              "2    [0.0015684175, -0.005820459, -0.0030434965, 0....        4  \n",
              "3    [-0.007639743, 0.00909951, -0.00711702, -0.008...       13  \n",
              "4    [0.006201693, 0.0046572518, -0.0016358948, 0.0...        8  \n",
              "..                                                 ...      ...  \n",
              "995  [0.002985536, 0.002697028, -0.009923629, 0.008...        8  \n",
              "996  [-0.0016845203, -0.0042065787, -0.0011288703, ...       14  \n",
              "997  [-0.0029379833, 0.0056716693, 0.005209936, -0....        1  \n",
              "998  [0.0012034822, -0.007561735, 0.00914108, 0.005...        4  \n",
              "999  [0.000105104446, -0.0021942651, 0.0067696655, ...        2  \n",
              "\n",
              "[1000 rows x 5 columns]"
            ]
          },
          "execution_count": 18,
          "metadata": {},
          "output_type": "execute_result"
        }
      ],
      "source": [
        "training_df"
      ]
    },
    {
      "cell_type": "code",
      "execution_count": null,
      "metadata": {
        "colab": {
          "base_uri": "https://localhost:8080/"
        },
        "id": "YlBWomuakBW-",
        "outputId": "9d564774-50a1-485d-b8b8-7a922c59dfbd"
      },
      "outputs": [
        {
          "name": "stdout",
          "output_type": "stream",
          "text": [
            "Silhouette Score: 0.826362907518634\n"
          ]
        }
      ],
      "source": [
        "#A Silhouette Score between 0.7 to 1 indicates clusters are well formed and distinct from other clusters\n",
        "silhouette_avg = silhouette_score(X_train, training_df['cluster'])\n",
        "print(f\"Silhouette Score: {silhouette_avg}\")"
      ]
    },
    {
      "cell_type": "code",
      "execution_count": null,
      "metadata": {
        "colab": {
          "base_uri": "https://localhost:8080/"
        },
        "id": "GfZtVb1O3lZh",
        "outputId": "a409d050-d479-43ef-d403-040d6a95486e"
      },
      "outputs": [
        {
          "name": "stdout",
          "output_type": "stream",
          "text": [
            "The predicted cluster for 'noise' is: 15\n"
          ]
        }
      ],
      "source": [
        "def predict_cluster(word):\n",
        "    # Extract features for the word (similar to the preprocessing steps during training)\n",
        "    word_vector = word_to_vec(word)\n",
        "    features = extract_features(word)\n",
        "    ari = features['ari']\n",
        "    length = features['length']\n",
        "    #lang = features['language']\n",
        "    features=[ari,length]\n",
        "    '''print(f\"Word Vector: {word_vector}\")\n",
        "    print(f\"Features: {features}\")'''\n",
        "\n",
        "    # Check if any feature is None (indicating an issue with feature extraction)\n",
        "    if None in features or word_vector is None:\n",
        "        print(f\"Error extracting features for '{word}'. Unable to predict the cluster.\")\n",
        "        return None\n",
        "\n",
        "    # Concatenate features\n",
        "    input_features = np.concatenate([word_vector, features])\n",
        "    input_features = input_features.reshape(1, -1)\n",
        "\n",
        "\n",
        "    # Predict the cluster\n",
        "    predicted_cluster = kmeans.predict(input_features)\n",
        "\n",
        "    return predicted_cluster[0]\n",
        "\n",
        "\n",
        "word_to_predict = \"noise\"\n",
        "predicted_cluster = predict_cluster(word_to_predict)\n",
        "\n",
        "if predicted_cluster is not None:\n",
        "    print(f\"The predicted cluster for '{word_to_predict}' is: {predicted_cluster}\")\n",
        "else:\n",
        "    print(\"Unable to predict the cluster.\")\n"
      ]
    },
    {
      "cell_type": "code",
      "execution_count": null,
      "metadata": {
        "colab": {
          "base_uri": "https://localhost:8080/"
        },
        "id": "pVTceqdK5K9w",
        "outputId": "711edbce-513b-4f14-d634-8f8d3ca9ddeb"
      },
      "outputs": [
        {
          "name": "stdout",
          "output_type": "stream",
          "text": [
            "Random Words:\n",
            "92233     depersonalization\n",
            "111743              empower\n",
            "54319         carbosilicate\n",
            "114641          entreatment\n",
            "Name: word, dtype: object\n"
          ]
        }
      ],
      "source": [
        "random_words = application_df['word'].sample(n=4, random_state=42)\n",
        "\n",
        "print(\"Random Words:\")\n",
        "print(random_words)"
      ]
    },
    {
      "cell_type": "code",
      "execution_count": null,
      "metadata": {
        "colab": {
          "base_uri": "https://localhost:8080/"
        },
        "id": "IT3wxKLOVx7r",
        "outputId": "ad8fe0c4-a28f-4977-9104-0f27571545fe"
      },
      "outputs": [
        {
          "data": {
            "text/plain": [
              "pandas.core.series.Series"
            ]
          },
          "execution_count": 22,
          "metadata": {},
          "output_type": "execute_result"
        }
      ],
      "source": [
        "type(random_words)"
      ]
    },
    {
      "cell_type": "code",
      "execution_count": null,
      "metadata": {
        "colab": {
          "base_uri": "https://localhost:8080/"
        },
        "id": "blNeknJ4Nvwo",
        "outputId": "31974724-b0d1-44d9-954f-995da00df1cf"
      },
      "outputs": [
        {
          "name": "stdout",
          "output_type": "stream",
          "text": [
            "Collecting gtts\n",
            "  Downloading gTTS-2.4.0-py3-none-any.whl (29 kB)\n",
            "Collecting pydub\n",
            "  Downloading pydub-0.25.1-py2.py3-none-any.whl (32 kB)\n",
            "Requirement already satisfied: requests<3,>=2.27 in /usr/local/lib/python3.10/dist-packages (from gtts) (2.31.0)\n",
            "Requirement already satisfied: click<8.2,>=7.1 in /usr/local/lib/python3.10/dist-packages (from gtts) (8.1.7)\n",
            "Requirement already satisfied: charset-normalizer<4,>=2 in /usr/local/lib/python3.10/dist-packages (from requests<3,>=2.27->gtts) (3.3.2)\n",
            "Requirement already satisfied: idna<4,>=2.5 in /usr/local/lib/python3.10/dist-packages (from requests<3,>=2.27->gtts) (3.6)\n",
            "Requirement already satisfied: urllib3<3,>=1.21.1 in /usr/local/lib/python3.10/dist-packages (from requests<3,>=2.27->gtts) (2.0.7)\n",
            "Requirement already satisfied: certifi>=2017.4.17 in /usr/local/lib/python3.10/dist-packages (from requests<3,>=2.27->gtts) (2023.11.17)\n",
            "Installing collected packages: pydub, gtts\n",
            "Successfully installed gtts-2.4.0 pydub-0.25.1\n"
          ]
        }
      ],
      "source": [
        "!pip install gtts pydub"
      ]
    },
    {
      "cell_type": "code",
      "execution_count": null,
      "metadata": {
        "colab": {
          "base_uri": "https://localhost:8080/"
        },
        "id": "39hcKLUeXLwj",
        "outputId": "5260908c-34f2-491e-aa7c-c730f0b62085"
      },
      "outputs": [
        {
          "data": {
            "text/plain": [
              "['depersonalization', 'empower', 'carbosilicate', 'entreatment']"
            ]
          },
          "execution_count": 24,
          "metadata": {},
          "output_type": "execute_result"
        }
      ],
      "source": [
        "random_words = random_words.tolist()\n",
        "random_words"
      ]
    },
    {
      "cell_type": "code",
      "execution_count": null,
      "metadata": {
        "colab": {
          "base_uri": "https://localhost:8080/",
          "height": 36
        },
        "id": "cl-PmXX5XsOG",
        "outputId": "2c369deb-1f46-46a5-f563-8001d8471c1d"
      },
      "outputs": [
        {
          "data": {
            "application/vnd.google.colaboratory.intrinsic+json": {
              "type": "string"
            },
            "text/plain": [
              "'depersonalization'"
            ]
          },
          "execution_count": 25,
          "metadata": {},
          "output_type": "execute_result"
        }
      ],
      "source": [
        "index = random.randint(0,3)\n",
        "word = random_words[index]\n",
        "word"
      ]
    },
    {
      "cell_type": "code",
      "execution_count": null,
      "metadata": {
        "colab": {
          "base_uri": "https://localhost:8080/",
          "height": 130
        },
        "id": "JG_ASs6hNKAd",
        "outputId": "7d2fe9f6-0731-4df9-fda5-f01b05f81efe"
      },
      "outputs": [
        {
          "name": "stdout",
          "output_type": "stream",
          "text": [
            "\n",
            "Word 1: depersonalization\n"
          ]
        },
        {
          "data": {
            "text/html": [
              "\n",
              "                <audio  controls=\"controls\" autoplay=\"autoplay\">\n",
              "                    <source src=\"data:audio/wav;base64,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\" type=\"audio/wav\" />\n",
              "                    Your browser does not support the audio element.\n",
              "                </audio>\n",
              "              "
            ],
            "text/plain": [
              "<IPython.lib.display.Audio object>"
            ]
          },
          "metadata": {},
          "output_type": "display_data"
        },
        {
          "name": "stdout",
          "output_type": "stream",
          "text": [
            "The index of the pronounced word is: 1\n"
          ]
        }
      ],
      "source": [
        "from gtts import gTTS\n",
        "import IPython.display as ipd\n",
        "import io\n",
        "\n",
        "\n",
        "print(f\"\\nWord {index + 1}: {word}\")\n",
        "\n",
        "# Generate the pronunciation using gTTS\n",
        "tts = gTTS(text=word, lang='en', slow=False)\n",
        "\n",
        "# Save the audio to a BytesIO object\n",
        "audio_buffer = io.BytesIO()\n",
        "tts.write_to_fp(audio_buffer)\n",
        "\n",
        "# Play the audio in the notebook\n",
        "ipd.display(ipd.Audio(audio_buffer.getvalue(), autoplay=True))\n",
        "\n",
        "# Track the index of the pronounced word\n",
        "print(f\"The index of the pronounced word is: {index + 1}\")\n"
      ]
    },
    {
      "cell_type": "code",
      "execution_count": null,
      "metadata": {
        "id": "-Y9WB9ZOQILV"
      },
      "outputs": [],
      "source": [
        "cluster_of_random_word = predict_cluster(word)"
      ]
    },
    {
      "cell_type": "code",
      "execution_count": null,
      "metadata": {
        "colab": {
          "base_uri": "https://localhost:8080/"
        },
        "id": "V5AqNWNmZJnm",
        "outputId": "35db6817-6d8f-4019-e9d6-6eac55df871f"
      },
      "outputs": [
        {
          "name": "stdout",
          "output_type": "stream",
          "text": [
            "Cluster of Random Word: 15\n"
          ]
        }
      ],
      "source": [
        "print(f\"Cluster of Random Word: {cluster_of_random_word}\")\n",
        "\n",
        "words_in_same_cluster = application_df[application_df['word'].apply(predict_cluster) == cluster_of_random_word]\n",
        "\n",
        "# Select 4 random words from the same cluster\n",
        "random_words_from_same_cluster = words_in_same_cluster['word'].sample(n=4, random_state=42)"
      ]
    },
    {
      "cell_type": "code",
      "execution_count": null,
      "metadata": {
        "colab": {
          "base_uri": "https://localhost:8080/",
          "height": 36
        },
        "id": "1o1pFVqacAum",
        "outputId": "1c715ebf-f4ed-4039-d911-5fee3f83fd63"
      },
      "outputs": [
        {
          "data": {
            "application/vnd.google.colaboratory.intrinsic+json": {
              "type": "string"
            },
            "text/plain": [
              "'flittermice'"
            ]
          },
          "execution_count": 29,
          "metadata": {},
          "output_type": "execute_result"
        }
      ],
      "source": [
        "random_words_from_same_cluster = random_words_from_same_cluster.tolist()\n",
        "index = random.randint(0,3)\n",
        "word = random_words_from_same_cluster[index]\n",
        "word"
      ]
    },
    {
      "cell_type": "code",
      "execution_count": null,
      "metadata": {
        "colab": {
          "base_uri": "https://localhost:8080/",
          "height": 93
        },
        "id": "j6aORo0Sc2Jw",
        "outputId": "b5c515b4-4ac6-481a-f646-485f3eb80823"
      },
      "outputs": [
        {
          "data": {
            "text/html": [
              "\n",
              "                <audio  controls=\"controls\" autoplay=\"autoplay\">\n",
              "                    <source src=\"data:audio/wav;base64,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\" type=\"audio/wav\" />\n",
              "                    Your browser does not support the audio element.\n",
              "                </audio>\n",
              "              "
            ],
            "text/plain": [
              "<IPython.lib.display.Audio object>"
            ]
          },
          "metadata": {},
          "output_type": "display_data"
        },
        {
          "name": "stdout",
          "output_type": "stream",
          "text": [
            "The index of the pronounced word is: 3\n"
          ]
        }
      ],
      "source": [
        "tts = gTTS(text=word, lang='en', slow=False)\n",
        "\n",
        "audio_buffer = io.BytesIO()\n",
        "tts.write_to_fp(audio_buffer)\n",
        "\n",
        "ipd.display(ipd.Audio(audio_buffer.getvalue(), autoplay=True))\n",
        "\n",
        "print(f\"The index of the pronounced word is: {index + 1}\")\n"
      ]
    },
    {
      "cell_type": "code",
      "execution_count": null,
      "metadata": {
        "colab": {
          "base_uri": "https://localhost:8080/"
        },
        "id": "q9thvZ6FeKhH",
        "outputId": "7326e44e-d63b-40ed-c60d-97ffdae8c39c"
      },
      "outputs": [
        {
          "data": {
            "text/plain": [
              "15"
            ]
          },
          "execution_count": 31,
          "metadata": {},
          "output_type": "execute_result"
        }
      ],
      "source": [
        "cluster_of_random_word = predict_cluster(word)\n",
        "cluster_of_random_word"
      ]
    },
    {
      "cell_type": "code",
      "execution_count": null,
      "metadata": {
        "colab": {
          "base_uri": "https://localhost:8080/",
          "height": 1000
        },
        "id": "spPVuR61jCP6",
        "outputId": "b05979f2-444e-49ec-8a78-04d7da6c4b94"
      },
      "outputs": [
        {
          "name": "stdout",
          "output_type": "stream",
          "text": [
            "\n",
            "Listen to the word\n"
          ]
        },
        {
          "data": {
            "text/html": [
              "\n",
              "                <audio  controls=\"controls\" autoplay=\"autoplay\">\n",
              "                    <source src=\"data:audio/mpeg;base64,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\" type=\"audio/mpeg\" />\n",
              "                    Your browser does not support the audio element.\n",
              "                </audio>\n",
              "              "
            ],
            "text/plain": [
              "<IPython.lib.display.Audio object>"
            ]
          },
          "metadata": {
            "rate": 44100
          },
          "output_type": "display_data"
        },
        {
          "name": "stdout",
          "output_type": "stream",
          "text": [
            "\n",
            "Select the correct option by index:\n",
            "1. preborrowing\n",
            "2. pollbook\n",
            "3. solert\n",
            "4. Crimora\n",
            "Enter the index of the correct option: 2\n",
            "Incorrect! Predicted cluster of the incorrectly selected word: 15\n",
            "\n",
            "Listen to the word\n"
          ]
        },
        {
          "data": {
            "text/html": [
              "\n",
              "                <audio  controls=\"controls\" autoplay=\"autoplay\">\n",
              "                    <source src=\"data:audio/mpeg;base64,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\" type=\"audio/mpeg\" />\n",
              "                    Your browser does not support the audio element.\n",
              "                </audio>\n",
              "              "
            ],
            "text/plain": [
              "<IPython.lib.display.Audio object>"
            ]
          },
          "metadata": {
            "rate": 44100
          },
          "output_type": "display_data"
        },
        {
          "name": "stdout",
          "output_type": "stream",
          "text": [
            "\n",
            "Select the correct option by index:\n",
            "1. merosystematic\n",
            "2. Mendham\n",
            "3. recollectiveness\n",
            "4. tuliac\n",
            "Enter the index of the correct option: 3\n",
            "Incorrect! Predicted cluster of the incorrectly selected word: 15\n",
            "\n",
            "Listen to the word\n"
          ]
        },
        {
          "data": {
            "text/html": [
              "\n",
              "                <audio  controls=\"controls\" autoplay=\"autoplay\">\n",
              "                    <source src=\"data:audio/mpeg;base64,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\" type=\"audio/mpeg\" />\n",
              "                    Your browser does not support the audio element.\n",
              "                </audio>\n",
              "              "
            ],
            "text/plain": [
              "<IPython.lib.display.Audio object>"
            ]
          },
          "metadata": {
            "rate": 44100
          },
          "output_type": "display_data"
        },
        {
          "name": "stdout",
          "output_type": "stream",
          "text": [
            "\n",
            "Select the correct option by index:\n",
            "1. osmous\n",
            "2. Trincomali\n",
            "3. slabness\n",
            "4. grangerising\n",
            "Enter the index of the correct option: 2\n",
            "Incorrect! Predicted cluster of the incorrectly selected word: 15\n",
            "\n",
            "Listen to the word\n"
          ]
        },
        {
          "data": {
            "text/html": [
              "\n",
              "                <audio  controls=\"controls\" autoplay=\"autoplay\">\n",
              "                    <source src=\"data:audio/mpeg;base64,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\" type=\"audio/mpeg\" />\n",
              "                    Your browser does not support the audio element.\n",
              "                </audio>\n",
              "              "
            ],
            "text/plain": [
              "<IPython.lib.display.Audio object>"
            ]
          },
          "metadata": {
            "rate": 44100
          },
          "output_type": "display_data"
        },
        {
          "name": "stdout",
          "output_type": "stream",
          "text": [
            "\n",
            "Select the correct option by index:\n",
            "1. hyperleucocytosis\n",
            "2. intertwines\n",
            "3. kopeks\n",
            "4. thyroidal\n",
            "Enter the index of the correct option: 0\n",
            "Incorrect! Predicted cluster of the incorrectly selected word: 15\n",
            "\n",
            "Listen to the word\n"
          ]
        },
        {
          "data": {
            "text/html": [
              "\n",
              "                <audio  controls=\"controls\" autoplay=\"autoplay\">\n",
              "                    <source src=\"data:audio/mpeg;base64,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\" type=\"audio/mpeg\" />\n",
              "                    Your browser does not support the audio element.\n",
              "                </audio>\n",
              "              "
            ],
            "text/plain": [
              "<IPython.lib.display.Audio object>"
            ]
          },
          "metadata": {
            "rate": 44100
          },
          "output_type": "display_data"
        },
        {
          "name": "stdout",
          "output_type": "stream",
          "text": [
            "\n",
            "Select the correct option by index:\n",
            "1. Pistia\n",
            "2. athumia\n",
            "3. uphelm\n",
            "4. subsilicate\n",
            "Enter the index of the correct option: 3\n",
            "Incorrect! Predicted cluster of the incorrectly selected word: 15\n",
            "\n",
            "Stored clusters: [15, 15, 15, 15, 15]\n",
            "Use these clusters to regulate the randomization in future iterations.\n"
          ]
        }
      ],
      "source": [
        "import time\n",
        "stored_clusters = []\n",
        "\n",
        "def play_round():\n",
        "    random_words = application_df['word'].sample(n=4)\n",
        "    random_words = random_words.tolist()\n",
        "    index = random.randint(0,3)\n",
        "    word_to_pronounce = random_words[index]\n",
        "\n",
        "    print(f\"\\nListen to the word\")\n",
        "    tts = gTTS(text=word_to_pronounce, lang='en', slow=False)\n",
        "    tts.save('pronunciation.mp3')\n",
        "    ipd.display(ipd.Audio('pronunciation.mp3', autoplay=True), metadata=dict(rate=44100))\n",
        "    time.sleep(2)\n",
        "\n",
        "\n",
        "    print(\"\\nSelect the correct option by index:\")\n",
        "    for index, word in enumerate(random_words):\n",
        "        print(f\"{index + 1}. {word}\")\n",
        "\n",
        "    user_input = int(input(\"Enter the index of the correct option: \"))\n",
        "\n",
        "    if user_input == index + 1:\n",
        "        print(\"Correct!!\")\n",
        "    elif user_input == index + 1:\n",
        "        cluster_of_incorrect_word = predict_cluster(word_to_pronounce)\n",
        "        print(f\"Incorrect! Predicted cluster of the incorrectly selected word: {cluster_of_incorrect_word}\")\n",
        "        stored_clusters.append(cluster_of_incorrect_word)\n",
        "\n",
        "\n",
        "for _ in range(5):\n",
        "    play_round()\n",
        "\n",
        "\n",
        "print(\"\\nStored clusters:\", stored_clusters)\n",
        "print(\"Use these clusters to regulate the randomization in future iterations.\")"
      ]
    },
    {
      "cell_type": "code",
      "execution_count": null,
      "metadata": {
        "colab": {
          "base_uri": "https://localhost:8080/"
        },
        "id": "0AxYfueTo9JJ",
        "outputId": "cb21e177-8f8d-4e7e-a9b3-2fcd26937374"
      },
      "outputs": [
        {
          "name": "stdout",
          "output_type": "stream",
          "text": [
            "palaeoclimatological\n",
            "Bellville\n",
            "Patricio\n",
            "haglin\n",
            "nomothetes\n"
          ]
        }
      ],
      "source": [
        "for i in range(5):\n",
        "    random_words = application_df['word'].sample(n=4)\n",
        "    random_words = random_words.tolist()\n",
        "    index = random.randint(0,3)\n",
        "    word_to_pronounce = random_words[index]\n",
        "    print(word_to_pronounce)"
      ]
    },
    {
      "cell_type": "code",
      "execution_count": null,
      "metadata": {
        "colab": {
          "base_uri": "https://localhost:8080/",
          "height": 1000
        },
        "id": "2cyjYXGAtoR8",
        "outputId": "184afdad-f542-4ec7-fff1-5fba7dad1e54"
      },
      "outputs": [
        {
          "name": "stdout",
          "output_type": "stream",
          "text": [
            "\n",
            "Listen to the word: latten\n"
          ]
        },
        {
          "data": {
            "text/html": [
              "\n",
              "                <audio  controls=\"controls\" autoplay=\"autoplay\">\n",
              "                    <source src=\"data:audio/mpeg;base64,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\" type=\"audio/mpeg\" />\n",
              "                    Your browser does not support the audio element.\n",
              "                </audio>\n",
              "              "
            ],
            "text/plain": [
              "<IPython.lib.display.Audio object>"
            ]
          },
          "metadata": {
            "rate": 44100
          },
          "output_type": "display_data"
        },
        {
          "name": "stdout",
          "output_type": "stream",
          "text": [
            "\n",
            "Select the correct option by index:\n",
            "1. phemic\n",
            "2. taratantarize\n",
            "3. latten\n",
            "4. guideship\n",
            "Enter the index of the correct option: 3\n",
            "User input: 3\n",
            "Correct index: 3\n",
            "Correct!!\n",
            "\n",
            "Listen to the word: torcular\n"
          ]
        },
        {
          "data": {
            "text/html": [
              "\n",
              "                <audio  controls=\"controls\" autoplay=\"autoplay\">\n",
              "                    <source src=\"data:audio/mpeg;base64,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\" type=\"audio/mpeg\" />\n",
              "                    Your browser does not support the audio element.\n",
              "                </audio>\n",
              "              "
            ],
            "text/plain": [
              "<IPython.lib.display.Audio object>"
            ]
          },
          "metadata": {
            "rate": 44100
          },
          "output_type": "display_data"
        },
        {
          "name": "stdout",
          "output_type": "stream",
          "text": [
            "\n",
            "Select the correct option by index:\n",
            "1. torcular\n",
            "2. trustability\n",
            "3. gigadoid\n",
            "4. rheinberry\n",
            "Enter the index of the correct option: 1\n",
            "User input: 1\n",
            "Correct index: 1\n",
            "Correct!!\n",
            "\n",
            "Listen to the word: goloka\n"
          ]
        },
        {
          "data": {
            "text/html": [
              "\n",
              "                <audio  controls=\"controls\" autoplay=\"autoplay\">\n",
              "                    <source src=\"data:audio/mpeg;base64,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\" type=\"audio/mpeg\" />\n",
              "                    Your browser does not support the audio element.\n",
              "                </audio>\n",
              "              "
            ],
            "text/plain": [
              "<IPython.lib.display.Audio object>"
            ]
          },
          "metadata": {
            "rate": 44100
          },
          "output_type": "display_data"
        },
        {
          "name": "stdout",
          "output_type": "stream",
          "text": [
            "\n",
            "Select the correct option by index:\n",
            "1. goloka\n",
            "2. selfpropelling\n",
            "3. Hypoxis\n",
            "4. witneys\n",
            "Enter the index of the correct option: 1\n",
            "User input: 1\n",
            "Correct index: 1\n",
            "Correct!!\n",
            "\n",
            "Listen to the word: maunge\n"
          ]
        },
        {
          "data": {
            "text/html": [
              "\n",
              "                <audio  controls=\"controls\" autoplay=\"autoplay\">\n",
              "                    <source src=\"data:audio/mpeg;base64,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\" type=\"audio/mpeg\" />\n",
              "                    Your browser does not support the audio element.\n",
              "                </audio>\n",
              "              "
            ],
            "text/plain": [
              "<IPython.lib.display.Audio object>"
            ]
          },
          "metadata": {
            "rate": 44100
          },
          "output_type": "display_data"
        },
        {
          "name": "stdout",
          "output_type": "stream",
          "text": [
            "\n",
            "Select the correct option by index:\n",
            "1. arteriotrepsis\n",
            "2. maunge\n",
            "3. fillers\n",
            "4. persists\n",
            "Enter the index of the correct option: 2\n",
            "User input: 2\n",
            "Correct index: 2\n",
            "Correct!!\n",
            "\n",
            "Listen to the word: evaporable\n"
          ]
        },
        {
          "data": {
            "text/html": [
              "\n",
              "                <audio  controls=\"controls\" autoplay=\"autoplay\">\n",
              "                    <source src=\"data:audio/mpeg;base64,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\" type=\"audio/mpeg\" />\n",
              "                    Your browser does not support the audio element.\n",
              "                </audio>\n",
              "              "
            ],
            "text/plain": [
              "<IPython.lib.display.Audio object>"
            ]
          },
          "metadata": {
            "rate": 44100
          },
          "output_type": "display_data"
        },
        {
          "name": "stdout",
          "output_type": "stream",
          "text": [
            "\n",
            "Select the correct option by index:\n",
            "1. lumachel\n",
            "2. evaporable\n",
            "3. undecomposable\n",
            "4. infinitate\n",
            "Enter the index of the correct option: 2\n",
            "User input: 2\n",
            "Correct index: 2\n",
            "Correct!!\n",
            "\n",
            "Stored clusters: []\n",
            "Use these clusters to regulate the randomization in future iterations.\n"
          ]
        }
      ],
      "source": [
        "stored_clusters = []\n",
        "def play_round():\n",
        "    random_words = application_df['word'].sample(n=4)\n",
        "    random_words = random_words.tolist()\n",
        "    index = random.randint(0, 3)\n",
        "    word_to_pronounce = random_words[index]\n",
        "\n",
        "    print(f\"\\nListen to the word: {word_to_pronounce}\")\n",
        "    tts = gTTS(text=word_to_pronounce, lang='en', slow=False)\n",
        "    tts.save('pronunciation.mp3')\n",
        "    ipd.display(ipd.Audio('pronunciation.mp3', autoplay=True), metadata=dict(rate=44100))\n",
        "    time.sleep(3)\n",
        "\n",
        "    print(\"\\nSelect the correct option by index:\")\n",
        "    for i, word in enumerate(random_words):\n",
        "        print(f\"{i + 1}. {word}\")\n",
        "\n",
        "    user_input = int(input(\"Enter the index of the correct option: \"))\n",
        "\n",
        "    print(f\"User input: {user_input}\")\n",
        "    print(f\"Correct index: {index + 1}\")\n",
        "\n",
        "    if user_input == index + 1:\n",
        "        print(\"Correct!!\")\n",
        "    elif user_input == index + 1:\n",
        "        cluster_of_incorrect_word = predict_cluster(word_to_pronounce)\n",
        "        print(f\"Incorrect! Predicted cluster of the incorrectly selected word: {cluster_of_incorrect_word}\")\n",
        "        stored_clusters.append(cluster_of_incorrect_word)\n",
        "\n",
        "\n",
        "for _ in range(5):\n",
        "    play_round()\n",
        "\n",
        "print(\"\\nStored clusters:\", stored_clusters)\n",
        "print(\"Use these clusters to regulate the randomization in future iterations.\")\n"
      ]
    },
    {
      "cell_type": "code",
      "execution_count": null,
      "metadata": {
        "colab": {
          "base_uri": "https://localhost:8080/"
        },
        "id": "wOkAc1NeE56_",
        "outputId": "548537a5-3b89-454e-a2d5-30314a36ae7e"
      },
      "outputs": [
        {
          "data": {
            "text/plain": [
              "['/content/drive/MyDrive/Colab Notebooks/kmeans_model.pkl']"
            ]
          },
          "execution_count": 39,
          "metadata": {},
          "output_type": "execute_result"
        }
      ],
      "source": [
        "import joblib\n",
        "joblib.dump(kmeans, '/content/drive/MyDrive/Colab Notebooks/kmeans_model.pkl')"
      ]
    }
  ],
  "metadata": {
    "colab": {
      "include_colab_link": true,
      "provenance": []
    },
    "kernelspec": {
      "display_name": "Python 3",
      "name": "python3"
    },
    "language_info": {
      "name": "python"
    }
  },
  "nbformat": 4,
  "nbformat_minor": 0
}
